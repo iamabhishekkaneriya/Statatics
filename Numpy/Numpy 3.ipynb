{
 "cells": [
  {
   "cell_type": "code",
   "execution_count": 1,
   "id": "e4145b3d-fb5b-4b0f-ad6a-88c0920309ae",
   "metadata": {},
   "outputs": [],
   "source": [
    "#sort ,Search & counting Functions."
   ]
  },
  {
   "cell_type": "code",
   "execution_count": 2,
   "id": "1a8ab132-c02d-4c17-9204-5f07adbf448c",
   "metadata": {},
   "outputs": [],
   "source": [
    "import numpy as np "
   ]
  },
  {
   "cell_type": "code",
   "execution_count": 3,
   "id": "74621c8e-b199-42c4-a94f-6f130e3040ce",
   "metadata": {},
   "outputs": [],
   "source": [
    "arr =np.array([4,3,5,3,4,53,8,5,21,3,2,4,35,1])"
   ]
  },
  {
   "cell_type": "code",
   "execution_count": 4,
   "id": "9f05f9f3-0b6e-47c2-bebc-518c7fe10f4a",
   "metadata": {},
   "outputs": [
    {
     "data": {
      "text/plain": [
       "array([ 4,  3,  5,  3,  4, 53,  8,  5, 21,  3,  2,  4, 35,  1])"
      ]
     },
     "execution_count": 4,
     "metadata": {},
     "output_type": "execute_result"
    }
   ],
   "source": [
    "arr"
   ]
  },
  {
   "cell_type": "code",
   "execution_count": 5,
   "id": "d8481b84-0e1a-47fb-a158-a2303733a4d5",
   "metadata": {},
   "outputs": [
    {
     "data": {
      "text/plain": [
       "array([ 1,  2,  3,  3,  3,  4,  4,  4,  5,  5,  8, 21, 35, 53])"
      ]
     },
     "execution_count": 5,
     "metadata": {},
     "output_type": "execute_result"
    }
   ],
   "source": [
    "np.sort(arr) #sort  the data"
   ]
  },
  {
   "cell_type": "code",
   "execution_count": 6,
   "id": "7b00b125-e711-4973-a70a-be0d24cc9a3f",
   "metadata": {},
   "outputs": [
    {
     "data": {
      "text/plain": [
       "14"
      ]
     },
     "execution_count": 6,
     "metadata": {},
     "output_type": "execute_result"
    }
   ],
   "source": [
    "np.searchsorted(arr,20)"
   ]
  },
  {
   "cell_type": "code",
   "execution_count": 7,
   "id": "13fa4b9b-bf57-4292-9b28-589bcdb5ee3f",
   "metadata": {},
   "outputs": [],
   "source": [
    "arr1 = np.array([0,34,563,2,56,3,0,267,1,0,0])"
   ]
  },
  {
   "cell_type": "code",
   "execution_count": 8,
   "id": "b8300294-bda2-4672-b08f-84ed09265510",
   "metadata": {},
   "outputs": [
    {
     "data": {
      "text/plain": [
       "7"
      ]
     },
     "execution_count": 8,
     "metadata": {},
     "output_type": "execute_result"
    }
   ],
   "source": [
    "np.count_nonzero(arr1) # find non zero data"
   ]
  },
  {
   "cell_type": "code",
   "execution_count": 9,
   "id": "822aaea1-a855-4ff3-87b4-503b2abd770f",
   "metadata": {},
   "outputs": [
    {
     "data": {
      "text/plain": [
       "array([ 4,  3,  5,  3,  4, 53,  8,  5, 21,  3,  2,  4, 35,  1])"
      ]
     },
     "execution_count": 9,
     "metadata": {},
     "output_type": "execute_result"
    }
   ],
   "source": [
    "arr"
   ]
  },
  {
   "cell_type": "code",
   "execution_count": 10,
   "id": "1dac0f71-29f0-4ada-9490-b986d18d075a",
   "metadata": {},
   "outputs": [
    {
     "data": {
      "text/plain": [
       "(array([ 5,  6,  8, 12]),)"
      ]
     },
     "execution_count": 10,
     "metadata": {},
     "output_type": "execute_result"
    }
   ],
   "source": [
    "np.where(arr > 6)"
   ]
  },
  {
   "cell_type": "code",
   "execution_count": 11,
   "id": "9819ee95-d110-4e2b-9918-fd3f74e98d72",
   "metadata": {},
   "outputs": [
    {
     "data": {
      "text/plain": [
       "array([ 4,  5,  4, 53,  8,  5, 21,  4, 35])"
      ]
     },
     "execution_count": 11,
     "metadata": {},
     "output_type": "execute_result"
    }
   ],
   "source": [
    "np.extract(arr > 3 ,arr)"
   ]
  },
  {
   "cell_type": "code",
   "execution_count": 12,
   "id": "4da84e83-b0eb-4885-b98b-449831578706",
   "metadata": {},
   "outputs": [],
   "source": [
    "#Numpy - byte swapping"
   ]
  },
  {
   "cell_type": "code",
   "execution_count": 13,
   "id": "de9d814c-2b58-427a-935f-36daf2a0bd3c",
   "metadata": {},
   "outputs": [
    {
     "data": {
      "text/plain": [
       "array([ 288230376151711744,  216172782113783808,  360287970189639680,\n",
       "        216172782113783808,  288230376151711744, 3819052484010180608,\n",
       "        576460752303423488,  360287970189639680, 1513209474796486656,\n",
       "        216172782113783808,  144115188075855872,  288230376151711744,\n",
       "       2522015791327477760,   72057594037927936])"
      ]
     },
     "execution_count": 13,
     "metadata": {},
     "output_type": "execute_result"
    }
   ],
   "source": [
    "arr.byteswap()"
   ]
  },
  {
   "cell_type": "code",
   "execution_count": 14,
   "id": "78a9a59f-eb23-48c0-9f00-5a1a20203afd",
   "metadata": {},
   "outputs": [],
   "source": [
    "#Numpy - copy & views"
   ]
  },
  {
   "cell_type": "code",
   "execution_count": 15,
   "id": "59a8f5b8-b547-4190-892a-57bf2e74ccd1",
   "metadata": {},
   "outputs": [
    {
     "data": {
      "text/plain": [
       "array([ 4,  3,  5,  3,  4, 53,  8,  5, 21,  3,  2,  4, 35,  1])"
      ]
     },
     "execution_count": 15,
     "metadata": {},
     "output_type": "execute_result"
    }
   ],
   "source": [
    "arr"
   ]
  },
  {
   "cell_type": "code",
   "execution_count": 16,
   "id": "620d02cd-f650-4647-a294-a34c7f420aa7",
   "metadata": {},
   "outputs": [],
   "source": [
    "a = np.copy(arr) #create a copy new location"
   ]
  },
  {
   "cell_type": "code",
   "execution_count": 17,
   "id": "31f54bd4-4961-4ce9-a801-6596c1a2055a",
   "metadata": {},
   "outputs": [],
   "source": [
    "b = arr.view() #not locatte another place"
   ]
  },
  {
   "cell_type": "code",
   "execution_count": 18,
   "id": "08cb789e-1436-4c34-a5ab-5d5d213be1d1",
   "metadata": {},
   "outputs": [
    {
     "data": {
      "text/plain": [
       "array([ 4,  3,  5,  3,  4, 53,  8,  5, 21,  3,  2,  4, 35,  1])"
      ]
     },
     "execution_count": 18,
     "metadata": {},
     "output_type": "execute_result"
    }
   ],
   "source": [
    "b"
   ]
  },
  {
   "cell_type": "code",
   "execution_count": 19,
   "id": "813b6f7d-e663-46c3-89f2-04bc4c7a6851",
   "metadata": {},
   "outputs": [
    {
     "data": {
      "text/plain": [
       "array([ 4,  3,  5,  3,  4, 53,  8,  5, 21,  3,  2,  4, 35,  1])"
      ]
     },
     "execution_count": 19,
     "metadata": {},
     "output_type": "execute_result"
    }
   ],
   "source": [
    "arr"
   ]
  },
  {
   "cell_type": "code",
   "execution_count": 20,
   "id": "01e864f0-a4b6-4000-ae49-a882655dbd54",
   "metadata": {},
   "outputs": [],
   "source": [
    "b[0] = 67"
   ]
  },
  {
   "cell_type": "code",
   "execution_count": 21,
   "id": "3c22f9ad-3e72-44dc-9b14-e9f32ef91350",
   "metadata": {},
   "outputs": [
    {
     "data": {
      "text/plain": [
       "array([67,  3,  5,  3,  4, 53,  8,  5, 21,  3,  2,  4, 35,  1])"
      ]
     },
     "execution_count": 21,
     "metadata": {},
     "output_type": "execute_result"
    }
   ],
   "source": [
    "b"
   ]
  },
  {
   "cell_type": "code",
   "execution_count": 22,
   "id": "19e2d4db-6f78-4173-ab98-d1e668c379a4",
   "metadata": {},
   "outputs": [
    {
     "data": {
      "text/plain": [
       "array([67,  3,  5,  3,  4, 53,  8,  5, 21,  3,  2,  4, 35,  1])"
      ]
     },
     "execution_count": 22,
     "metadata": {},
     "output_type": "execute_result"
    }
   ],
   "source": [
    "arr"
   ]
  },
  {
   "cell_type": "code",
   "execution_count": 23,
   "id": "276a8cb4-97e5-40fa-afe7-7e973e643167",
   "metadata": {},
   "outputs": [],
   "source": [
    "#Numpy - matrix libarary"
   ]
  },
  {
   "cell_type": "code",
   "execution_count": 28,
   "id": "883ff2a4-f601-4af0-8fe9-49caa5350cfc",
   "metadata": {},
   "outputs": [],
   "source": [
    "import numpy.matlib as nm"
   ]
  },
  {
   "cell_type": "code",
   "execution_count": 29,
   "id": "1794cb7d-df20-49f3-b585-97de5c55cb04",
   "metadata": {},
   "outputs": [
    {
     "data": {
      "text/plain": [
       "matrix([[0., 0., 0., 0., 0.]])"
      ]
     },
     "execution_count": 29,
     "metadata": {},
     "output_type": "execute_result"
    }
   ],
   "source": [
    "nm.zeros(5)"
   ]
  },
  {
   "cell_type": "code",
   "execution_count": 30,
   "id": "79fdd288-0016-4f9c-a139-926759eb8ae6",
   "metadata": {},
   "outputs": [
    {
     "data": {
      "text/plain": [
       "matrix([[1., 1., 1., 1.],\n",
       "        [1., 1., 1., 1.],\n",
       "        [1., 1., 1., 1.]])"
      ]
     },
     "execution_count": 30,
     "metadata": {},
     "output_type": "execute_result"
    }
   ],
   "source": [
    "nm.ones((3,4))"
   ]
  },
  {
   "cell_type": "code",
   "execution_count": 31,
   "id": "074eb80f-bcee-44f9-aefa-82cee0ff46c5",
   "metadata": {},
   "outputs": [
    {
     "data": {
      "text/plain": [
       "matrix([[1., 0., 0., 0., 0.],\n",
       "        [0., 1., 0., 0., 0.],\n",
       "        [0., 0., 1., 0., 0.],\n",
       "        [0., 0., 0., 1., 0.],\n",
       "        [0., 0., 0., 0., 1.]])"
      ]
     },
     "execution_count": 31,
     "metadata": {},
     "output_type": "execute_result"
    }
   ],
   "source": [
    "nm.eye(5)"
   ]
  },
  {
   "cell_type": "code",
   "execution_count": null,
   "id": "9ab77012-10f8-42e8-8cd3-4e3d8e1606ba",
   "metadata": {},
   "outputs": [],
   "source": []
  }
 ],
 "metadata": {
  "kernelspec": {
   "display_name": "Python 3 (ipykernel)",
   "language": "python",
   "name": "python3"
  },
  "language_info": {
   "codemirror_mode": {
    "name": "ipython",
    "version": 3
   },
   "file_extension": ".py",
   "mimetype": "text/x-python",
   "name": "python",
   "nbconvert_exporter": "python",
   "pygments_lexer": "ipython3",
   "version": "3.10.12"
  }
 },
 "nbformat": 4,
 "nbformat_minor": 5
}
