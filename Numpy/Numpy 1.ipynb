{
 "cells": [
  {
   "cell_type": "code",
   "execution_count": 2,
   "id": "feadbb17-c03b-4cc8-8c27-a57c812b98b4",
   "metadata": {},
   "outputs": [
    {
     "name": "stdout",
     "output_type": "stream",
     "text": [
      "Defaulting to user installation because normal site-packages is not writeable\n",
      "Requirement already satisfied: numpy in /home/abhishek/.local/lib/python3.10/site-packages (1.26.4)\n",
      "Note: you may need to restart the kernel to use updated packages.\n"
     ]
    }
   ],
   "source": [
    "pip install numpy"
   ]
  },
  {
   "cell_type": "code",
   "execution_count": 3,
   "id": "e654a7d6-f857-403b-a426-13fa51708e5e",
   "metadata": {},
   "outputs": [],
   "source": [
    "import numpy as np"
   ]
  },
  {
   "cell_type": "code",
   "execution_count": 4,
   "id": "fc3e546c-e172-476c-abb4-6cb1c859c110",
   "metadata": {},
   "outputs": [],
   "source": [
    "l = [1,2,3,4]"
   ]
  },
  {
   "cell_type": "code",
   "execution_count": 5,
   "id": "70e52e70-8fe3-49da-8ad4-0ac7076eae44",
   "metadata": {},
   "outputs": [],
   "source": [
    "ar = np.array(l) #list into array"
   ]
  },
  {
   "cell_type": "code",
   "execution_count": 6,
   "id": "46d570db-f0c7-4e66-a78d-bd2a7df0b2e4",
   "metadata": {},
   "outputs": [
    {
     "data": {
      "text/plain": [
       "array([1, 2, 3, 4])"
      ]
     },
     "execution_count": 6,
     "metadata": {},
     "output_type": "execute_result"
    }
   ],
   "source": [
    "ar # one dimension"
   ]
  },
  {
   "cell_type": "code",
   "execution_count": 7,
   "id": "1df70c2c-7e0b-4d3b-8601-7293a532d665",
   "metadata": {},
   "outputs": [
    {
     "data": {
      "text/plain": [
       "numpy.ndarray"
      ]
     },
     "execution_count": 7,
     "metadata": {},
     "output_type": "execute_result"
    }
   ],
   "source": [
    "type(ar)"
   ]
  },
  {
   "cell_type": "code",
   "execution_count": 9,
   "id": "4b08dffc-0e75-4ca7-9dd6-e9c61aa94191",
   "metadata": {},
   "outputs": [
    {
     "data": {
      "text/plain": [
       "array([[1, 2],\n",
       "       [3, 4]])"
      ]
     },
     "execution_count": 9,
     "metadata": {},
     "output_type": "execute_result"
    }
   ],
   "source": [
    "np.array([[1,2],[3,4]]) #two dimension"
   ]
  },
  {
   "cell_type": "code",
   "execution_count": 10,
   "id": "f673184b-a3d7-4f98-ab43-e58f3c249d2a",
   "metadata": {},
   "outputs": [
    {
     "data": {
      "text/plain": [
       "array([1, 2, 3, 4])"
      ]
     },
     "execution_count": 10,
     "metadata": {},
     "output_type": "execute_result"
    }
   ],
   "source": [
    "np.asarray(l)"
   ]
  },
  {
   "cell_type": "code",
   "execution_count": 11,
   "id": "dff0c195-20c4-488a-988e-d88e3726b97f",
   "metadata": {},
   "outputs": [],
   "source": [
    "a = [2,3,4,]"
   ]
  },
  {
   "cell_type": "code",
   "execution_count": 12,
   "id": "8c55483f-66ff-4249-907f-c109fbec38f5",
   "metadata": {},
   "outputs": [
    {
     "data": {
      "text/plain": [
       "array([2, 3, 4])"
      ]
     },
     "execution_count": 12,
     "metadata": {},
     "output_type": "execute_result"
    }
   ],
   "source": [
    "np.asanyarray(a)"
   ]
  },
  {
   "cell_type": "code",
   "execution_count": 17,
   "id": "3ad7f243-c51e-40af-aebe-4028834105ae",
   "metadata": {},
   "outputs": [],
   "source": [
    "b = np.matrix(l) #matrix is two dimension & subset of array"
   ]
  },
  {
   "cell_type": "code",
   "execution_count": 18,
   "id": "f220a53d-0f91-4695-b6be-7f5a7c32f57d",
   "metadata": {},
   "outputs": [
    {
     "data": {
      "text/plain": [
       "matrix([[1, 2, 3, 4]])"
      ]
     },
     "execution_count": 18,
     "metadata": {},
     "output_type": "execute_result"
    }
   ],
   "source": [
    "b"
   ]
  },
  {
   "cell_type": "code",
   "execution_count": 19,
   "id": "aa62f786-5d17-4b1f-b49b-ebfb387bb73f",
   "metadata": {},
   "outputs": [],
   "source": [
    "a = np.asarray(l)"
   ]
  },
  {
   "cell_type": "code",
   "execution_count": 20,
   "id": "72be3f28-48a3-4418-b536-79f1521f65e5",
   "metadata": {},
   "outputs": [
    {
     "data": {
      "text/plain": [
       "array([1, 2, 3, 4])"
      ]
     },
     "execution_count": 20,
     "metadata": {},
     "output_type": "execute_result"
    }
   ],
   "source": [
    "a"
   ]
  },
  {
   "cell_type": "code",
   "execution_count": 21,
   "id": "9c6ce530-9062-4987-9270-c57389de3d0a",
   "metadata": {},
   "outputs": [],
   "source": [
    "c = a  #solo copy"
   ]
  },
  {
   "cell_type": "code",
   "execution_count": 22,
   "id": "91860540-b8bc-4bd9-8164-350f360d4302",
   "metadata": {},
   "outputs": [
    {
     "data": {
      "text/plain": [
       "array([1, 2, 3, 4])"
      ]
     },
     "execution_count": 22,
     "metadata": {},
     "output_type": "execute_result"
    }
   ],
   "source": [
    "c"
   ]
  },
  {
   "cell_type": "code",
   "execution_count": 23,
   "id": "58be3981-2bde-4ddf-9c33-2b8c135952ad",
   "metadata": {},
   "outputs": [
    {
     "data": {
      "text/plain": [
       "array([1, 2, 3, 4])"
      ]
     },
     "execution_count": 23,
     "metadata": {},
     "output_type": "execute_result"
    }
   ],
   "source": [
    "a"
   ]
  },
  {
   "cell_type": "code",
   "execution_count": 24,
   "id": "c017824a-68f0-4bcc-b252-5fb9354eb862",
   "metadata": {},
   "outputs": [],
   "source": [
    "c[0] = 100"
   ]
  },
  {
   "cell_type": "code",
   "execution_count": 25,
   "id": "5b225c19-54da-4727-92eb-272fbe92aeb2",
   "metadata": {},
   "outputs": [
    {
     "data": {
      "text/plain": [
       "array([100,   2,   3,   4])"
      ]
     },
     "execution_count": 25,
     "metadata": {},
     "output_type": "execute_result"
    }
   ],
   "source": [
    "c"
   ]
  },
  {
   "cell_type": "code",
   "execution_count": 26,
   "id": "ea3ccfc9-4f4f-4f73-8278-91e87fa64f07",
   "metadata": {},
   "outputs": [
    {
     "data": {
      "text/plain": [
       "array([100,   2,   3,   4])"
      ]
     },
     "execution_count": 26,
     "metadata": {},
     "output_type": "execute_result"
    }
   ],
   "source": [
    "a"
   ]
  },
  {
   "cell_type": "code",
   "execution_count": 29,
   "id": "ac00e97b-ed7f-4fe2-b5e3-6145cb3d2f25",
   "metadata": {},
   "outputs": [],
   "source": [
    "d = np.copy(a)   #deep copy"
   ]
  },
  {
   "cell_type": "code",
   "execution_count": 30,
   "id": "cd1ef3e2-6c7f-4c9d-a2b6-0ee1c7b00e82",
   "metadata": {},
   "outputs": [
    {
     "data": {
      "text/plain": [
       "array([100,   2,   3,   4])"
      ]
     },
     "execution_count": 30,
     "metadata": {},
     "output_type": "execute_result"
    }
   ],
   "source": [
    "d"
   ]
  },
  {
   "cell_type": "code",
   "execution_count": 31,
   "id": "f4a89c9a-2dde-4444-8754-a2c164f27d28",
   "metadata": {},
   "outputs": [],
   "source": [
    "a[1] = 400"
   ]
  },
  {
   "cell_type": "code",
   "execution_count": 32,
   "id": "bb351ca4-1214-4ba5-87b0-99c190bf8396",
   "metadata": {},
   "outputs": [
    {
     "data": {
      "text/plain": [
       "array([100, 400,   3,   4])"
      ]
     },
     "execution_count": 32,
     "metadata": {},
     "output_type": "execute_result"
    }
   ],
   "source": [
    "a "
   ]
  },
  {
   "cell_type": "code",
   "execution_count": 33,
   "id": "a1c08cc6-b191-4d7a-8fa9-4091dde6759a",
   "metadata": {},
   "outputs": [
    {
     "data": {
      "text/plain": [
       "array([100,   2,   3,   4])"
      ]
     },
     "execution_count": 33,
     "metadata": {},
     "output_type": "execute_result"
    }
   ],
   "source": [
    "d"
   ]
  },
  {
   "cell_type": "code",
   "execution_count": 34,
   "id": "c4f4ab67-f456-4e88-8835-cfae1b8f65d2",
   "metadata": {},
   "outputs": [
    {
     "data": {
      "text/plain": [
       "array([[ True, False, False],\n",
       "       [False,  True, False],\n",
       "       [False, False,  True]])"
      ]
     },
     "execution_count": 34,
     "metadata": {},
     "output_type": "execute_result"
    }
   ],
   "source": [
    "np.fromfunction(lambda i , j: i==j,(3,3)) #genrate the data"
   ]
  },
  {
   "cell_type": "code",
   "execution_count": 35,
   "id": "8b6637ae-3496-4854-afe9-ccdafbff24e7",
   "metadata": {},
   "outputs": [
    {
     "data": {
      "text/plain": [
       "array([[0., 0., 0.],\n",
       "       [0., 1., 2.],\n",
       "       [0., 2., 4.]])"
      ]
     },
     "execution_count": 35,
     "metadata": {},
     "output_type": "execute_result"
    }
   ],
   "source": [
    "np.fromfunction(lambda i , j: i*j,(3,3)) #genrate the data"
   ]
  },
  {
   "cell_type": "code",
   "execution_count": 36,
   "id": "de9458f0-03be-47db-b0bb-e21cb761ed91",
   "metadata": {},
   "outputs": [],
   "source": [
    "iterable = (i*i for i in range(5)) #iterable also create array"
   ]
  },
  {
   "cell_type": "code",
   "execution_count": 37,
   "id": "f0a2f04f-5f18-454f-9708-2be5158786fc",
   "metadata": {},
   "outputs": [
    {
     "data": {
      "text/plain": [
       "array([ 0.,  1.,  4.,  9., 16.])"
      ]
     },
     "execution_count": 37,
     "metadata": {},
     "output_type": "execute_result"
    }
   ],
   "source": [
    "np.fromiter(iterable,float)"
   ]
  },
  {
   "cell_type": "code",
   "execution_count": 39,
   "id": "b03c7fea-95ac-430a-bc5f-b11bb445347a",
   "metadata": {},
   "outputs": [
    {
     "data": {
      "text/plain": [
       "array([112., 212.])"
      ]
     },
     "execution_count": 39,
     "metadata": {},
     "output_type": "execute_result"
    }
   ],
   "source": [
    "np.fromstring('112 212', sep = ' ') #seprater "
   ]
  },
  {
   "cell_type": "code",
   "execution_count": 43,
   "id": "d985e879-efe9-4919-aae6-ae8acc040743",
   "metadata": {},
   "outputs": [
    {
     "data": {
      "text/plain": [
       "array([128., 212.])"
      ]
     },
     "execution_count": 43,
     "metadata": {},
     "output_type": "execute_result"
    }
   ],
   "source": [
    "np.fromstring('128, 212', sep = ', ') #seprater "
   ]
  },
  {
   "cell_type": "code",
   "execution_count": 44,
   "id": "21a6092a-6955-4d97-aaa6-7cce41323e9b",
   "metadata": {},
   "outputs": [],
   "source": [
    "#Numpy - datatype"
   ]
  },
  {
   "cell_type": "code",
   "execution_count": 45,
   "id": "85e274c2-fb5a-4f9b-a8ec-f78d4c544ed4",
   "metadata": {},
   "outputs": [],
   "source": [
    "l = [2,3,4,5,6]"
   ]
  },
  {
   "cell_type": "code",
   "execution_count": 46,
   "id": "ed07dfb9-0483-4fc3-a5bb-7aad7744f558",
   "metadata": {},
   "outputs": [],
   "source": [
    "ar = np.array(l)"
   ]
  },
  {
   "cell_type": "code",
   "execution_count": 47,
   "id": "c195b416-8e14-4ca1-abe9-02c6dcb6e257",
   "metadata": {},
   "outputs": [
    {
     "data": {
      "text/plain": [
       "array([2, 3, 4, 5, 6])"
      ]
     },
     "execution_count": 47,
     "metadata": {},
     "output_type": "execute_result"
    }
   ],
   "source": [
    "ar"
   ]
  },
  {
   "cell_type": "code",
   "execution_count": 50,
   "id": "b1e8d890-308a-402c-a2ba-2c7a1e63a09c",
   "metadata": {},
   "outputs": [
    {
     "data": {
      "text/plain": [
       "1"
      ]
     },
     "execution_count": 50,
     "metadata": {},
     "output_type": "execute_result"
    }
   ],
   "source": [
    "ar.ndim  #know about dimension of array"
   ]
  },
  {
   "cell_type": "code",
   "execution_count": 57,
   "id": "1094786a-25c5-4119-afa3-7fc100ece1b9",
   "metadata": {},
   "outputs": [],
   "source": [
    "ar2= np.array([[2,1,3,1,3,4],[271,5,7,127,133,1]])"
   ]
  },
  {
   "cell_type": "code",
   "execution_count": 58,
   "id": "dafab303-1a34-406a-938b-b16e8e00c741",
   "metadata": {},
   "outputs": [
    {
     "data": {
      "text/plain": [
       "array([[  2,   1,   3,   1,   3,   4],\n",
       "       [271,   5,   7, 127, 133,   1]])"
      ]
     },
     "execution_count": 58,
     "metadata": {},
     "output_type": "execute_result"
    }
   ],
   "source": [
    "ar2"
   ]
  },
  {
   "cell_type": "code",
   "execution_count": 59,
   "id": "85e49f3f-7d7e-434e-b7a2-dafa3ba84537",
   "metadata": {},
   "outputs": [
    {
     "data": {
      "text/plain": [
       "2"
      ]
     },
     "execution_count": 59,
     "metadata": {},
     "output_type": "execute_result"
    }
   ],
   "source": [
    "ar2.ndim"
   ]
  },
  {
   "cell_type": "code",
   "execution_count": 60,
   "id": "def2a2fd-0ffc-47fd-8a5e-142f2f781eeb",
   "metadata": {},
   "outputs": [
    {
     "data": {
      "text/plain": [
       "12"
      ]
     },
     "execution_count": 60,
     "metadata": {},
     "output_type": "execute_result"
    }
   ],
   "source": [
    "ar2.size"
   ]
  },
  {
   "cell_type": "code",
   "execution_count": 61,
   "id": "ed21bf0c-620d-4259-b10d-113cebc1be78",
   "metadata": {},
   "outputs": [
    {
     "data": {
      "text/plain": [
       "(2, 6)"
      ]
     },
     "execution_count": 61,
     "metadata": {},
     "output_type": "execute_result"
    }
   ],
   "source": [
    "ar2.shape"
   ]
  },
  {
   "cell_type": "code",
   "execution_count": 62,
   "id": "e33dbe25-a091-4d5d-9579-f6a608c2d934",
   "metadata": {},
   "outputs": [
    {
     "data": {
      "text/plain": [
       "dtype('int64')"
      ]
     },
     "execution_count": 62,
     "metadata": {},
     "output_type": "execute_result"
    }
   ],
   "source": [
    "ar2.dtype"
   ]
  },
  {
   "cell_type": "code",
   "execution_count": 63,
   "id": "c0185a01-8561-43f8-8587-db94991a91d5",
   "metadata": {},
   "outputs": [
    {
     "data": {
      "text/plain": [
       "[0, 1, 2, 3, 4]"
      ]
     },
     "execution_count": 63,
     "metadata": {},
     "output_type": "execute_result"
    }
   ],
   "source": [
    "list(range(5))"
   ]
  },
  {
   "cell_type": "code",
   "execution_count": 64,
   "id": "7ede9dda-6837-4cec-bf22-6fb648935470",
   "metadata": {},
   "outputs": [
    {
     "data": {
      "text/plain": [
       "array([0.1, 1.1, 2.1, 3.1, 4.1])"
      ]
     },
     "execution_count": 64,
     "metadata": {},
     "output_type": "execute_result"
    }
   ],
   "source": [
    "np.arange(0.1,5)"
   ]
  },
  {
   "cell_type": "code",
   "execution_count": 67,
   "id": "483992a8-8cc9-4087-a16a-f41b8777d1f5",
   "metadata": {},
   "outputs": [
    {
     "data": {
      "text/plain": [
       "[0.1, 0.7, 1.3, 1.9, 2.5, 3.1, 3.6999999999999997, 4.3, 4.8999999999999995]"
      ]
     },
     "execution_count": 67,
     "metadata": {},
     "output_type": "execute_result"
    }
   ],
   "source": [
    "list(np.arange(0.1,5,.6))"
   ]
  },
  {
   "cell_type": "code",
   "execution_count": 69,
   "id": "dc23f0e4-7fc5-441b-a4ae-decfd8eb57de",
   "metadata": {},
   "outputs": [
    {
     "data": {
      "text/plain": [
       "array([0., 0., 0., 0., 0.])"
      ]
     },
     "execution_count": 69,
     "metadata": {},
     "output_type": "execute_result"
    }
   ],
   "source": [
    "np.zeros(5)"
   ]
  },
  {
   "cell_type": "code",
   "execution_count": 56,
   "id": "2db70e4a-d170-4cc1-9f02-1fdf6b4876b7",
   "metadata": {},
   "outputs": [
    {
     "data": {
      "text/plain": [
       "array([[1., 0., 0., 0.],\n",
       "       [0., 1., 0., 0.],\n",
       "       [0., 0., 1., 0.],\n",
       "       [0., 0., 0., 1.]])"
      ]
     },
     "execution_count": 56,
     "metadata": {},
     "output_type": "execute_result"
    }
   ],
   "source": [
    "np.eye(4) #identity matrix"
   ]
  },
  {
   "cell_type": "code",
   "execution_count": 61,
   "id": "4e1871aa-7186-480d-8fb7-b1ccfae9b5fa",
   "metadata": {},
   "outputs": [
    {
     "data": {
      "text/plain": [
       "array([2.        , 2.10526316, 2.21052632, 2.31578947, 2.42105263,\n",
       "       2.52631579, 2.63157895, 2.73684211, 2.84210526, 2.94736842,\n",
       "       3.05263158, 3.15789474, 3.26315789, 3.36842105, 3.47368421,\n",
       "       3.57894737, 3.68421053, 3.78947368, 3.89473684, 4.        ])"
      ]
     },
     "execution_count": 61,
     "metadata": {},
     "output_type": "execute_result"
    }
   ],
   "source": [
    "np.linspace(2,4,20) #produce data between 2 to 4"
   ]
  },
  {
   "cell_type": "code",
   "execution_count": null,
   "id": "9fc60688-9800-419e-8060-b1abbd07e130",
   "metadata": {},
   "outputs": [],
   "source": []
  },
  {
   "cell_type": "code",
   "execution_count": 62,
   "id": "2e75c0f9-0ded-4cd3-add0-92a158f3ef30",
   "metadata": {},
   "outputs": [
    {
     "data": {
      "text/plain": [
       "<function logspace at 0x719f74104d30>"
      ]
     },
     "execution_count": 62,
     "metadata": {},
     "output_type": "execute_result"
    }
   ],
   "source": [
    "np.logspace #find log like linspace"
   ]
  },
  {
   "cell_type": "code",
   "execution_count": 63,
   "id": "7e2173ae-0f81-4e92-9635-1f3e190aa914",
   "metadata": {},
   "outputs": [
    {
     "data": {
      "text/plain": [
       "array([   100.        ,    215.443469  ,    464.15888336,   1000.        ,\n",
       "         2154.43469003,   4641.58883361,  10000.        ,  21544.34690032,\n",
       "        46415.88833613, 100000.        ])"
      ]
     },
     "execution_count": 63,
     "metadata": {},
     "output_type": "execute_result"
    }
   ],
   "source": [
    "np.logspace(2,5,10)"
   ]
  },
  {
   "cell_type": "code",
   "execution_count": 59,
   "id": "2a9abd25-f022-4a55-9f60-90886a1d20e3",
   "metadata": {},
   "outputs": [
    {
     "data": {
      "text/plain": [
       "array([[0., 0., 0., 0.],\n",
       "       [0., 0., 0., 0.],\n",
       "       [0., 0., 0., 0.]])"
      ]
     },
     "execution_count": 59,
     "metadata": {},
     "output_type": "execute_result"
    }
   ],
   "source": [
    "np.zeros((3,4))"
   ]
  },
  {
   "cell_type": "code",
   "execution_count": 60,
   "id": "132cfdc0-ecae-48a0-b1a7-57ccbb836b52",
   "metadata": {},
   "outputs": [
    {
     "data": {
      "text/plain": [
       "array([[5.43230922e-312, 7.29112202e-304]])"
      ]
     },
     "execution_count": 60,
     "metadata": {},
     "output_type": "execute_result"
    }
   ],
   "source": [
    "np.empty((1,2)) # create empty array"
   ]
  },
  {
   "cell_type": "code",
   "execution_count": 65,
   "id": "0d4379b9-311e-4342-93a5-bf234285e21e",
   "metadata": {},
   "outputs": [
    {
     "data": {
      "text/plain": [
       "array([[-0.61102821,  0.24597679, -0.01256193],\n",
       "       [ 0.92569434, -1.65883479,  0.18784684]])"
      ]
     },
     "execution_count": 65,
     "metadata": {},
     "output_type": "execute_result"
    }
   ],
   "source": [
    "#create data random  \n",
    "np.random.randn(2,3)"
   ]
  },
  {
   "cell_type": "code",
   "execution_count": 66,
   "id": "b8435587-29de-467f-9c3b-31ef5125f25f",
   "metadata": {},
   "outputs": [],
   "source": [
    "#create data random  \n",
    "arr =np.random.randn(2,3)"
   ]
  },
  {
   "cell_type": "code",
   "execution_count": 67,
   "id": "a4625f6a-7b80-43c8-81df-2efe05c68e26",
   "metadata": {},
   "outputs": [],
   "source": [
    "import pandas as pd\n"
   ]
  },
  {
   "cell_type": "code",
   "execution_count": 68,
   "id": "514e7404-bbf8-4f15-852c-ecec0600f8dd",
   "metadata": {},
   "outputs": [
    {
     "data": {
      "text/html": [
       "<div>\n",
       "<style scoped>\n",
       "    .dataframe tbody tr th:only-of-type {\n",
       "        vertical-align: middle;\n",
       "    }\n",
       "\n",
       "    .dataframe tbody tr th {\n",
       "        vertical-align: top;\n",
       "    }\n",
       "\n",
       "    .dataframe thead th {\n",
       "        text-align: right;\n",
       "    }\n",
       "</style>\n",
       "<table border=\"1\" class=\"dataframe\">\n",
       "  <thead>\n",
       "    <tr style=\"text-align: right;\">\n",
       "      <th></th>\n",
       "      <th>0</th>\n",
       "      <th>1</th>\n",
       "      <th>2</th>\n",
       "    </tr>\n",
       "  </thead>\n",
       "  <tbody>\n",
       "    <tr>\n",
       "      <th>0</th>\n",
       "      <td>-0.336958</td>\n",
       "      <td>0.887194</td>\n",
       "      <td>0.209187</td>\n",
       "    </tr>\n",
       "    <tr>\n",
       "      <th>1</th>\n",
       "      <td>-0.034733</td>\n",
       "      <td>2.676910</td>\n",
       "      <td>1.607642</td>\n",
       "    </tr>\n",
       "  </tbody>\n",
       "</table>\n",
       "</div>"
      ],
      "text/plain": [
       "          0         1         2\n",
       "0 -0.336958  0.887194  0.209187\n",
       "1 -0.034733  2.676910  1.607642"
      ]
     },
     "execution_count": 68,
     "metadata": {},
     "output_type": "execute_result"
    }
   ],
   "source": [
    "pd.DataFrame(arr)"
   ]
  },
  {
   "cell_type": "code",
   "execution_count": 71,
   "id": "5909f186-7763-4c70-9580-f20126843353",
   "metadata": {},
   "outputs": [
    {
     "data": {
      "text/plain": [
       "array([[0.16364669, 0.71557908, 0.95270847],\n",
       "       [0.03519743, 0.1276625 , 0.20303698]])"
      ]
     },
     "execution_count": 71,
     "metadata": {},
     "output_type": "execute_result"
    }
   ],
   "source": [
    "np.random.rand(2,3) #normal data produce"
   ]
  },
  {
   "cell_type": "code",
   "execution_count": 73,
   "id": "5f2c8212-4cdf-48b9-8955-b544036d7a84",
   "metadata": {},
   "outputs": [
    {
     "data": {
      "text/plain": [
       "array([[[41, 34],\n",
       "        [37, 76],\n",
       "        [67, 70],\n",
       "        [81, 57],\n",
       "        [37, 58],\n",
       "        [77, 70]],\n",
       "\n",
       "       [[33, 67],\n",
       "        [32, 45],\n",
       "        [27, 16],\n",
       "        [74, 28],\n",
       "        [39, 41],\n",
       "        [63, 93]],\n",
       "\n",
       "       [[25, 41],\n",
       "        [49, 26],\n",
       "        [49, 96],\n",
       "        [80, 10],\n",
       "        [35, 68],\n",
       "        [62, 85]],\n",
       "\n",
       "       [[16, 82],\n",
       "        [60, 45],\n",
       "        [ 8, 87],\n",
       "        [94, 89],\n",
       "        [81, 53],\n",
       "        [98, 33]]])"
      ]
     },
     "execution_count": 73,
     "metadata": {},
     "output_type": "execute_result"
    }
   ],
   "source": [
    "np.random.randint(1,99,(4,6,2))"
   ]
  },
  {
   "cell_type": "code",
   "execution_count": 78,
   "id": "37c59543-094b-4d9c-bfb8-f9b62a95fb40",
   "metadata": {},
   "outputs": [
    {
     "data": {
      "text/plain": [
       "array([[[24, 74],\n",
       "        [65, 12],\n",
       "        [86, 57],\n",
       "        [25, 14],\n",
       "        [ 7, 50],\n",
       "        [17, 93]],\n",
       "\n",
       "       [[37, 79],\n",
       "        [ 1, 16],\n",
       "        [39, 49],\n",
       "        [40, 84],\n",
       "        [50, 68],\n",
       "        [58, 78]],\n",
       "\n",
       "       [[63, 10],\n",
       "        [ 9, 42],\n",
       "        [18, 91],\n",
       "        [41, 28],\n",
       "        [52, 88],\n",
       "        [91, 73]],\n",
       "\n",
       "       [[48, 79],\n",
       "        [81,  2],\n",
       "        [73, 19],\n",
       "        [61, 42],\n",
       "        [69, 13],\n",
       "        [ 4, 97]]])"
      ]
     },
     "execution_count": 78,
     "metadata": {},
     "output_type": "execute_result"
    }
   ],
   "source": [
    "np.random.randint(1,99,(4,6,2))"
   ]
  },
  {
   "cell_type": "code",
   "execution_count": 81,
   "id": "3a0a78d4-8382-4422-bf82-e9776ddcd5d6",
   "metadata": {},
   "outputs": [],
   "source": [
    "pd.DataFrame(np.random.randint(1,99,(200,500))).to_csv('RR.csv')"
   ]
  },
  {
   "cell_type": "code",
   "execution_count": 82,
   "id": "31e26e30-3a7b-4df2-885a-aa607b2cf7da",
   "metadata": {},
   "outputs": [],
   "source": [
    "pk = np.random.rand(3,4)"
   ]
  },
  {
   "cell_type": "code",
   "execution_count": 83,
   "id": "a4e8e655-4dfe-4e34-9a1d-b41c0b2ea1b3",
   "metadata": {},
   "outputs": [
    {
     "data": {
      "text/plain": [
       "array([[0.16761288, 0.57255757, 0.29867074, 0.46730205],\n",
       "       [0.79560424, 0.55975917, 0.93839435, 0.07964625],\n",
       "       [0.79098088, 0.25896275, 0.78918914, 0.25140859]])"
      ]
     },
     "execution_count": 83,
     "metadata": {},
     "output_type": "execute_result"
    }
   ],
   "source": [
    "pk"
   ]
  },
  {
   "cell_type": "code",
   "execution_count": 84,
   "id": "0f381419-55c6-42b2-85cc-0e1476c5f6e3",
   "metadata": {},
   "outputs": [
    {
     "ename": "ValueError",
     "evalue": "cannot reshape array of size 12 into shape (6,4)",
     "output_type": "error",
     "traceback": [
      "\u001b[0;31m---------------------------------------------------------------------------\u001b[0m",
      "\u001b[0;31mValueError\u001b[0m                                Traceback (most recent call last)",
      "Cell \u001b[0;32mIn[84], line 1\u001b[0m\n\u001b[0;32m----> 1\u001b[0m \u001b[43mpk\u001b[49m\u001b[38;5;241;43m.\u001b[39;49m\u001b[43mreshape\u001b[49m\u001b[43m(\u001b[49m\u001b[38;5;241;43m6\u001b[39;49m\u001b[43m,\u001b[49m\u001b[38;5;241;43m4\u001b[39;49m\u001b[43m)\u001b[49m\n",
      "\u001b[0;31mValueError\u001b[0m: cannot reshape array of size 12 into shape (6,4)"
     ]
    }
   ],
   "source": [
    "pk.reshape(6,4)"
   ]
  },
  {
   "cell_type": "code",
   "execution_count": 85,
   "id": "f1d026fb-145f-48c2-9628-f72c1a5aaf76",
   "metadata": {},
   "outputs": [
    {
     "data": {
      "text/plain": [
       "array([[0.16761288, 0.57255757],\n",
       "       [0.29867074, 0.46730205],\n",
       "       [0.79560424, 0.55975917],\n",
       "       [0.93839435, 0.07964625],\n",
       "       [0.79098088, 0.25896275],\n",
       "       [0.78918914, 0.25140859]])"
      ]
     },
     "execution_count": 85,
     "metadata": {},
     "output_type": "execute_result"
    }
   ],
   "source": [
    "pk.reshape(6,-1)"
   ]
  },
  {
   "cell_type": "code",
   "execution_count": 86,
   "id": "cd3bca75-8ccd-4e0a-8f6a-85ddc7e629f0",
   "metadata": {},
   "outputs": [],
   "source": [
    "pk1 = pk.reshape(6,-1)"
   ]
  },
  {
   "cell_type": "code",
   "execution_count": 87,
   "id": "0c029b44-9fb2-4eb0-a3ad-36fdd57c08f7",
   "metadata": {},
   "outputs": [
    {
     "data": {
      "text/plain": [
       "array([[0.16761288, 0.57255757],\n",
       "       [0.29867074, 0.46730205],\n",
       "       [0.79560424, 0.55975917],\n",
       "       [0.93839435, 0.07964625],\n",
       "       [0.79098088, 0.25896275],\n",
       "       [0.78918914, 0.25140859]])"
      ]
     },
     "execution_count": 87,
     "metadata": {},
     "output_type": "execute_result"
    }
   ],
   "source": [
    "pk1"
   ]
  },
  {
   "cell_type": "code",
   "execution_count": 89,
   "id": "242ca0db-5cd6-48cc-92f6-489a7328bc18",
   "metadata": {},
   "outputs": [
    {
     "data": {
      "text/plain": [
       "array([0.29867074, 0.46730205])"
      ]
     },
     "execution_count": 89,
     "metadata": {},
     "output_type": "execute_result"
    }
   ],
   "source": [
    "pk1[1]"
   ]
  },
  {
   "cell_type": "code",
   "execution_count": 90,
   "id": "d916408c-0d1f-4091-b85c-3902f816f7dd",
   "metadata": {},
   "outputs": [
    {
     "data": {
      "text/plain": [
       "0.4673020502278735"
      ]
     },
     "execution_count": 90,
     "metadata": {},
     "output_type": "execute_result"
    }
   ],
   "source": [
    "pk1[1][1]"
   ]
  },
  {
   "cell_type": "code",
   "execution_count": 91,
   "id": "d51f778b-f9d3-47bd-bcc5-97a90f8d394d",
   "metadata": {},
   "outputs": [
    {
     "data": {
      "text/plain": [
       "array([0.55975917, 0.07964625, 0.25896275])"
      ]
     },
     "execution_count": 91,
     "metadata": {},
     "output_type": "execute_result"
    }
   ],
   "source": [
    "pk1[2:5,1]"
   ]
  },
  {
   "cell_type": "code",
   "execution_count": 92,
   "id": "d9ae1767-6c98-4d49-b829-8022958461b4",
   "metadata": {},
   "outputs": [],
   "source": [
    "ak3 = np.random.randint(1,120,(5,6))"
   ]
  },
  {
   "cell_type": "code",
   "execution_count": 93,
   "id": "24faaada-655c-40d0-ae41-3b8ff62421b4",
   "metadata": {},
   "outputs": [
    {
     "data": {
      "text/plain": [
       "array([[109,  98,  99,  99,  81,  40],\n",
       "       [ 58, 113,  79, 116, 104, 116],\n",
       "       [ 85,  26,  59,  83,  32,   8],\n",
       "       [ 30,  26,  56, 100,  34,  55],\n",
       "       [ 31,  67,  59,  65, 119,  38]])"
      ]
     },
     "execution_count": 93,
     "metadata": {},
     "output_type": "execute_result"
    }
   ],
   "source": [
    "ak3"
   ]
  },
  {
   "cell_type": "code",
   "execution_count": 99,
   "id": "6d8afc00-8681-42e8-a6d7-c5790e09471f",
   "metadata": {},
   "outputs": [
    {
     "data": {
      "text/plain": [
       "[array([[ True,  True,  True,  True,  True, False],\n",
       "        [ True,  True,  True,  True,  True,  True],\n",
       "        [ True, False,  True,  True, False, False],\n",
       "        [False, False,  True,  True, False,  True],\n",
       "        [False,  True,  True,  True,  True, False]])]"
      ]
     },
     "execution_count": 99,
     "metadata": {},
     "output_type": "execute_result"
    }
   ],
   "source": [
    "[ak3>50]"
   ]
  },
  {
   "cell_type": "code",
   "execution_count": 100,
   "id": "81077d66-083e-4e38-92e0-d973e387c228",
   "metadata": {},
   "outputs": [
    {
     "data": {
      "text/plain": [
       "array([109,  98,  99,  99,  81, 113, 116, 104, 116,  85,  83, 100, 119])"
      ]
     },
     "execution_count": 100,
     "metadata": {},
     "output_type": "execute_result"
    }
   ],
   "source": [
    "ak3[ak3>80]"
   ]
  },
  {
   "cell_type": "code",
   "execution_count": 101,
   "id": "ae7f3caa-8648-4bf0-a87c-35c907fd1aaf",
   "metadata": {},
   "outputs": [
    {
     "data": {
      "text/plain": [
       "array([[109,  98,  99,  99,  81,  40],\n",
       "       [ 58, 113,  79, 116, 104, 116],\n",
       "       [ 85,  26,  59,  83,  32,   8],\n",
       "       [ 30,  26,  56, 100,  34,  55],\n",
       "       [ 31,  67,  59,  65, 119,  38]])"
      ]
     },
     "execution_count": 101,
     "metadata": {},
     "output_type": "execute_result"
    }
   ],
   "source": [
    "ak3"
   ]
  },
  {
   "cell_type": "code",
   "execution_count": null,
   "id": "f376aee3-2753-4d23-9bd5-9ebc41100934",
   "metadata": {},
   "outputs": [],
   "source": []
  }
 ],
 "metadata": {
  "kernelspec": {
   "display_name": "Python 3 (ipykernel)",
   "language": "python",
   "name": "python3"
  },
  "language_info": {
   "codemirror_mode": {
    "name": "ipython",
    "version": 3
   },
   "file_extension": ".py",
   "mimetype": "text/x-python",
   "name": "python",
   "nbconvert_exporter": "python",
   "pygments_lexer": "ipython3",
   "version": "3.10.12"
  }
 },
 "nbformat": 4,
 "nbformat_minor": 5
}
